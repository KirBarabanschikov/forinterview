{
 "cells": [
  {
   "attachments": {},
   "cell_type": "markdown",
   "metadata": {},
   "source": [
    "Линейная регрессия через библиотеку и ее улучшения"
   ]
  },
  {
   "cell_type": "code",
   "execution_count": 1,
   "metadata": {},
   "outputs": [],
   "source": [
    "import numpy as np\n",
    "import pandas as pd\n",
    "import matplotlib.pyplot as plt"
   ]
  },
  {
   "cell_type": "code",
   "execution_count": 4,
   "metadata": {},
   "outputs": [
    {
     "data": {
      "text/html": [
       "<div>\n",
       "<style scoped>\n",
       "    .dataframe tbody tr th:only-of-type {\n",
       "        vertical-align: middle;\n",
       "    }\n",
       "\n",
       "    .dataframe tbody tr th {\n",
       "        vertical-align: top;\n",
       "    }\n",
       "\n",
       "    .dataframe thead th {\n",
       "        text-align: right;\n",
       "    }\n",
       "</style>\n",
       "<table border=\"1\" class=\"dataframe\">\n",
       "  <thead>\n",
       "    <tr style=\"text-align: right;\">\n",
       "      <th></th>\n",
       "      <th>Unnamed: 0</th>\n",
       "      <th>carat</th>\n",
       "      <th>cut</th>\n",
       "      <th>color</th>\n",
       "      <th>clarity</th>\n",
       "      <th>depth</th>\n",
       "      <th>table</th>\n",
       "      <th>price</th>\n",
       "      <th>x</th>\n",
       "      <th>y</th>\n",
       "      <th>z</th>\n",
       "    </tr>\n",
       "  </thead>\n",
       "  <tbody>\n",
       "    <tr>\n",
       "      <th>0</th>\n",
       "      <td>1</td>\n",
       "      <td>0.23</td>\n",
       "      <td>Ideal</td>\n",
       "      <td>E</td>\n",
       "      <td>SI2</td>\n",
       "      <td>61.5</td>\n",
       "      <td>55.0</td>\n",
       "      <td>326</td>\n",
       "      <td>3.95</td>\n",
       "      <td>3.98</td>\n",
       "      <td>2.43</td>\n",
       "    </tr>\n",
       "    <tr>\n",
       "      <th>1</th>\n",
       "      <td>2</td>\n",
       "      <td>0.21</td>\n",
       "      <td>Premium</td>\n",
       "      <td>E</td>\n",
       "      <td>SI1</td>\n",
       "      <td>59.8</td>\n",
       "      <td>61.0</td>\n",
       "      <td>326</td>\n",
       "      <td>3.89</td>\n",
       "      <td>3.84</td>\n",
       "      <td>2.31</td>\n",
       "    </tr>\n",
       "    <tr>\n",
       "      <th>2</th>\n",
       "      <td>3</td>\n",
       "      <td>0.23</td>\n",
       "      <td>Good</td>\n",
       "      <td>E</td>\n",
       "      <td>VS1</td>\n",
       "      <td>56.9</td>\n",
       "      <td>65.0</td>\n",
       "      <td>327</td>\n",
       "      <td>4.05</td>\n",
       "      <td>4.07</td>\n",
       "      <td>2.31</td>\n",
       "    </tr>\n",
       "    <tr>\n",
       "      <th>3</th>\n",
       "      <td>4</td>\n",
       "      <td>0.29</td>\n",
       "      <td>Premium</td>\n",
       "      <td>I</td>\n",
       "      <td>VS2</td>\n",
       "      <td>62.4</td>\n",
       "      <td>58.0</td>\n",
       "      <td>334</td>\n",
       "      <td>4.20</td>\n",
       "      <td>4.23</td>\n",
       "      <td>2.63</td>\n",
       "    </tr>\n",
       "    <tr>\n",
       "      <th>4</th>\n",
       "      <td>5</td>\n",
       "      <td>0.31</td>\n",
       "      <td>Good</td>\n",
       "      <td>J</td>\n",
       "      <td>SI2</td>\n",
       "      <td>63.3</td>\n",
       "      <td>58.0</td>\n",
       "      <td>335</td>\n",
       "      <td>4.34</td>\n",
       "      <td>4.35</td>\n",
       "      <td>2.75</td>\n",
       "    </tr>\n",
       "  </tbody>\n",
       "</table>\n",
       "</div>"
      ],
      "text/plain": [
       "   Unnamed: 0  carat      cut color clarity  depth  table  price     x     y  \\\n",
       "0           1   0.23    Ideal     E     SI2   61.5   55.0    326  3.95  3.98   \n",
       "1           2   0.21  Premium     E     SI1   59.8   61.0    326  3.89  3.84   \n",
       "2           3   0.23     Good     E     VS1   56.9   65.0    327  4.05  4.07   \n",
       "3           4   0.29  Premium     I     VS2   62.4   58.0    334  4.20  4.23   \n",
       "4           5   0.31     Good     J     SI2   63.3   58.0    335  4.34  4.35   \n",
       "\n",
       "      z  \n",
       "0  2.43  \n",
       "1  2.31  \n",
       "2  2.31  \n",
       "3  2.63  \n",
       "4  2.75  "
      ]
     },
     "execution_count": 4,
     "metadata": {},
     "output_type": "execute_result"
    }
   ],
   "source": [
    "data = pd.read_csv('data/diamonds.csv') #датасет по бриллиантам\n",
    "data.head(5)"
   ]
  },
  {
   "attachments": {},
   "cell_type": "markdown",
   "metadata": {},
   "source": [
    "Сначала фильтруем данные"
   ]
  },
  {
   "cell_type": "code",
   "execution_count": 5,
   "metadata": {},
   "outputs": [
    {
     "data": {
      "text/plain": [
       "Unnamed: 0   -0.306873\n",
       "carat         0.921591\n",
       "depth        -0.010647\n",
       "table         0.127134\n",
       "price         1.000000\n",
       "x             0.884435\n",
       "y             0.865421\n",
       "z             0.861249\n",
       "dtype: float64"
      ]
     },
     "execution_count": 5,
     "metadata": {},
     "output_type": "execute_result"
    }
   ],
   "source": [
    "data.drop([\"cut\", \"color\", \"clarity\"], axis=1).corrwith(data.price) #ценность числовых признаков к таргетному"
   ]
  },
  {
   "cell_type": "code",
   "execution_count": 6,
   "metadata": {},
   "outputs": [
    {
     "data": {
      "text/plain": [
       "False"
      ]
     },
     "execution_count": 6,
     "metadata": {},
     "output_type": "execute_result"
    }
   ],
   "source": [
    "data.isnull().any().any() #есть ли пропуски"
   ]
  },
  {
   "cell_type": "code",
   "execution_count": 7,
   "metadata": {},
   "outputs": [],
   "source": [
    "data = data.drop('Unnamed: 0', axis=1) #удаляем ненужный столбец"
   ]
  },
  {
   "cell_type": "code",
   "execution_count": 8,
   "metadata": {},
   "outputs": [],
   "source": [
    "data = pd.get_dummies(data, prefix=['cu'], columns=['cut'])\n",
    "data = pd.get_dummies(data, prefix=['col'], columns=['color'])\n",
    "data = pd.get_dummies(data, prefix=['clar'], columns=['clarity'])\n",
    "#раскладываем нечисловые признаки на бинарные"
   ]
  },
  {
   "attachments": {},
   "cell_type": "markdown",
   "metadata": {},
   "source": [
    "Разбиваем выборку"
   ]
  },
  {
   "cell_type": "code",
   "execution_count": 9,
   "metadata": {},
   "outputs": [],
   "source": [
    "from sklearn.model_selection import train_test_split"
   ]
  },
  {
   "cell_type": "code",
   "execution_count": 10,
   "metadata": {},
   "outputs": [],
   "source": [
    "X_train, X_test, y_train, y_test = train_test_split(data.drop(['price'], axis=1), data['price'], test_size=0.3, random_state=1)"
   ]
  },
  {
   "cell_type": "code",
   "execution_count": 11,
   "metadata": {},
   "outputs": [],
   "source": [
    "from sklearn.preprocessing import StandardScaler\n",
    "\n",
    "X_train_scaled = StandardScaler().fit_transform(X_train)\n",
    "X_test_scaled = StandardScaler().fit_transform(X_test)\n",
    "#масштабируем"
   ]
  },
  {
   "attachments": {},
   "cell_type": "markdown",
   "metadata": {},
   "source": [
    "Обучаем модели"
   ]
  },
  {
   "cell_type": "code",
   "execution_count": 12,
   "metadata": {},
   "outputs": [],
   "source": [
    "from sklearn.linear_model import LinearRegression, Ridge, Lasso\n",
    "from sklearn.metrics import mean_squared_error"
   ]
  },
  {
   "attachments": {},
   "cell_type": "markdown",
   "metadata": {},
   "source": [
    "Проверка показателей у Линейной регрессии."
   ]
  },
  {
   "cell_type": "code",
   "execution_count": 13,
   "metadata": {},
   "outputs": [
    {
     "name": "stdout",
     "output_type": "stream",
     "text": [
      "Train: 1310118.7779581891\n",
      "Test: 1210916.8342919892\n",
      "Coeff: [ 5.27724713e+03 -8.35859541e+01 -5.68696252e+01 -1.05010216e+03\n",
      " -6.54293136e-01 -1.28889279e+01 -1.25601746e+02 -4.07564081e+01\n",
      "  5.15111488e+01  1.47055432e+01  2.81697664e+00  2.09666446e+02\n",
      "  1.59982203e+02  1.38024337e+02  5.73039455e+01 -1.29323243e+02\n",
      " -2.49568765e+02 -3.86217565e+02 -4.74135304e+02  2.47389557e+02\n",
      " -1.54469560e+02 -4.91150384e+02  2.05041395e+02  1.03588949e+02\n",
      "  2.55165018e+02  2.71730554e+02]\n"
     ]
    }
   ],
   "source": [
    "lr = LinearRegression().fit(X_train_scaled,y_train)\n",
    "print (\"Train: {}\".format(mean_squared_error(y_train, lr.predict(X_train_scaled))))\n",
    "print (\"Test: {}\".format(mean_squared_error(y_test, lr.predict(X_test_scaled))))\n",
    "print(\"Coeff: {}\".format(lr.coef_))"
   ]
  },
  {
   "attachments": {},
   "cell_type": "markdown",
   "metadata": {},
   "source": [
    "Между некоторыми признаками имеется сильная корреляция, что может быть индикатором проблемы *мультиколлинеарности*. На её присутствие намекают различия в порядке коэффициентов. Для решения этой проблемы можно либо исключить некоторые признаки из модели, либо использовать регуляризацию"
   ]
  },
  {
   "attachments": {},
   "cell_type": "markdown",
   "metadata": {},
   "source": [
    "Проверка показателей у Lasso-регрессии. L1-регуляризация отличается функцией потерь, которую минимизирует:\n",
    "\n",
    "\n",
    "$$\n",
    "\\|y - X\\hat{w}\\|^2 + \\alpha\\sum_{i=1}^k|w_i|\n",
    "$$\n",
    "\n",
    "Гиперпараметр равен 0.000001"
   ]
  },
  {
   "cell_type": "code",
   "execution_count": 29,
   "metadata": {},
   "outputs": [
    {
     "name": "stdout",
     "output_type": "stream",
     "text": [
      "Train: 1310118.7779581891\n",
      "Test: 1210784.9663286225\n",
      "Coeff: [ 5.27724709e+03 -8.35859507e+01 -5.68696238e+01 -1.05010212e+03\n",
      " -6.54291159e-01 -1.28889295e+01 -1.30461609e+02 -4.89692588e+01\n",
      "  3.74071860e+01  2.13892097e+00 -9.18995177e+00  3.28941850e+02\n",
      "  2.99117593e+02  2.74791847e+02  2.03818295e+02  2.80275755e-01\n",
      " -1.40966180e+02 -3.06791420e+02 -5.14507195e+02  1.84360582e+02\n",
      " -3.03748682e+02 -6.22192617e+02  7.95764734e+01 -4.28501113e+01\n",
      "  1.66822273e+02  1.70407372e+02]\n"
     ]
    },
    {
     "name": "stderr",
     "output_type": "stream",
     "text": [
      "/Library/Frameworks/Python.framework/Versions/3.10/lib/python3.10/site-packages/sklearn/linear_model/_coordinate_descent.py:648: ConvergenceWarning: Objective did not converge. You might want to increase the number of iterations, check the scale of the features or consider increasing regularisation. Duality gap: 2.438e+08, tolerance: 6.102e+07\n",
      "  model = cd_fast.enet_coordinate_descent(\n"
     ]
    }
   ],
   "source": [
    "lasso = Lasso(0.000001).fit(X_train_scaled,y_train)\n",
    "print (\"Train: {}\".format(mean_squared_error(y_train, lasso.predict(X_train_scaled))))\n",
    "print (\"Test: {}\".format(mean_squared_error(y_test, lasso.predict(X_test_scaled))))\n",
    "print(\"Coeff: {}\".format(lasso.coef_))"
   ]
  },
  {
   "attachments": {},
   "cell_type": "markdown",
   "metadata": {},
   "source": [
    "L2-регуляризация, Ridge-регрессиия, предлагает минимизировать следующую функцию потерь:\n",
    "\n",
    "\n",
    "$$\n",
    "\\|y - X\\hat{w}\\|^2 + \\frac{1}{2}\\alpha\\|w\\|^2\n",
    "$$\n",
    "\n",
    "Гиперпараметр равен 0.00001"
   ]
  },
  {
   "cell_type": "code",
   "execution_count": 23,
   "metadata": {},
   "outputs": [
    {
     "name": "stdout",
     "output_type": "stream",
     "text": [
      "Train: 1310118.7779581891\n",
      "Test: 1210916.8351380834\n",
      "Coeff: [ 5.27724709e+03 -8.35859516e+01 -5.68696249e+01 -1.05010212e+03\n",
      " -6.54295578e-01 -1.28889322e+01 -1.25601979e+02 -4.07568020e+01\n",
      "  5.15104725e+01  1.47049406e+01  2.81640105e+00  2.09667072e+02\n",
      "  1.59982934e+02  1.38025055e+02  5.73047150e+01 -1.29322562e+02\n",
      " -2.49568194e+02 -3.86217147e+02 -4.74135094e+02  2.47389884e+02\n",
      " -1.54468788e+02 -4.91149706e+02  2.05042044e+02  1.03589707e+02\n",
      "  2.55165476e+02  2.71731079e+02]\n"
     ]
    }
   ],
   "source": [
    "ridge = Ridge(0.00001).fit(X_train_scaled,y_train)\n",
    "print (\"Train: {}\".format(mean_squared_error(y_train, ridge.predict(X_train_scaled))))\n",
    "print (\"Test: {}\".format(mean_squared_error(y_test, ridge.predict(X_test_scaled))))\n",
    "print(\"Coeff: {}\".format(ridge.coef_))"
   ]
  },
  {
   "attachments": {},
   "cell_type": "markdown",
   "metadata": {},
   "source": [
    "Оценка моделей с различным параметром регуляризации "
   ]
  },
  {
   "cell_type": "code",
   "execution_count": 30,
   "metadata": {},
   "outputs": [
    {
     "name": "stderr",
     "output_type": "stream",
     "text": [
      "/Library/Frameworks/Python.framework/Versions/3.10/lib/python3.10/site-packages/sklearn/linear_model/_coordinate_descent.py:648: ConvergenceWarning: Objective did not converge. You might want to increase the number of iterations, check the scale of the features or consider increasing regularisation. Duality gap: 2.494e+08, tolerance: 6.102e+07\n",
      "  model = cd_fast.enet_coordinate_descent(\n"
     ]
    }
   ],
   "source": [
    "vector_ridge = []\n",
    "vector_lasso = []\n",
    "for element in [0.1, 1, 10, 100, 200]:\n",
    "    vector_ridge.append([np.linalg.norm(Ridge(element).fit(X_train_scaled,y_train).coef_)])\n",
    "    vector_lasso.append([np.linalg.norm(Lasso(element).fit(X_train_scaled,y_train).coef_)])"
   ]
  },
  {
   "attachments": {},
   "cell_type": "markdown",
   "metadata": {},
   "source": [
    "Lasso агрессивне уменьшает веса, что обосновывает его частое появление при отборе признаков"
   ]
  },
  {
   "cell_type": "code",
   "execution_count": 31,
   "metadata": {},
   "outputs": [
    {
     "data": {
      "image/png": "[encoded data removed]",
      "text/plain": [
       "<Figure size 1300x600 with 1 Axes>"
      ]
     },
     "metadata": {},
     "output_type": "display_data"
    }
   ],
   "source": [
    "plt.figure(figsize=(13, 6))\n",
    "plt.plot([0.1, 1, 10, 100, 200], vector_ridge, label='Ridge')\n",
    "plt.plot([0.1, 1, 10, 100, 200], vector_lasso, label='Lasso')\n",
    "\n",
    "plt.title('График изменения евклидовой нормы весов')\n",
    "plt.legend()\n",
    "plt.xlabel('Параметр а')\n",
    "plt.ylabel(r'Евклидова норма весов')\n",
    "plt.grid()\n",
    "plt.show()"
   ]
  },
  {
   "attachments": {},
   "cell_type": "markdown",
   "metadata": {},
   "source": [
    "Применение кросс-валидации с помощью библиотеки LassoCV"
   ]
  },
  {
   "cell_type": "code",
   "execution_count": 21,
   "metadata": {},
   "outputs": [
    {
     "data": {
      "text/plain": [
       "array([1980846.59902099, 1557941.34033576, 1323861.91280537,\n",
       "       1313468.95680614, 1313490.85785815])"
      ]
     },
     "execution_count": 21,
     "metadata": {},
     "output_type": "execute_result"
    }
   ],
   "source": [
    "from sklearn.linear_model import LassoCV\n",
    "\n",
    "np.mean(LassoCV(alphas=[0.1, 1, 10, 100, 200],cv=5).fit(X_train_scaled,y_train).mse_path_, axis=1)"
   ]
  },
  {
   "cell_type": "code",
   "execution_count": 35,
   "metadata": {},
   "outputs": [
    {
     "name": "stdout",
     "output_type": "stream",
     "text": [
      "Train: 1310118.7779581996\n",
      "Test: 1210784.9814345685\n",
      "Coeff: [ 5.27724669e+03 -8.35859207e+01 -5.68696112e+01 -1.05010174e+03\n",
      " -6.54273368e-01 -1.28889438e+01 -1.30461834e+02 -4.89696397e+01\n",
      "  3.74065258e+01  2.13832369e+00 -9.19050718e+00  3.28932310e+02\n",
      "  2.99106465e+02  2.74780905e+02  2.03806577e+02  2.69909058e-01\n",
      " -1.40974849e+02 -3.06797755e+02 -5.14506538e+02  1.84361584e+02\n",
      " -3.03746300e+02 -6.22190517e+02  7.95784676e+01 -4.28477670e+01\n",
      "  1.66823682e+02  1.70408986e+02]\n"
     ]
    },
    {
     "name": "stderr",
     "output_type": "stream",
     "text": [
      "/Library/Frameworks/Python.framework/Versions/3.10/lib/python3.10/site-packages/sklearn/linear_model/_coordinate_descent.py:648: ConvergenceWarning: Objective did not converge. You might want to increase the number of iterations, check the scale of the features or consider increasing regularisation. Duality gap: 2.438e+08, tolerance: 6.102e+07\n",
      "  model = cd_fast.enet_coordinate_descent(\n"
     ]
    }
   ],
   "source": [
    "lasso = Lasso(0.00001).fit(X_train_scaled,y_train)\n",
    "print (\"Train: {}\".format(mean_squared_error(y_train, lasso.predict(X_train_scaled))))\n",
    "print (\"Test: {}\".format(mean_squared_error(y_test, lasso.predict(X_test_scaled))))\n",
    "print(\"Coeff: {}\".format(lasso.coef_))"
   ]
  },
  {
   "cell_type": "code",
   "execution_count": null,
   "metadata": {},
   "outputs": [],
   "source": []
  }
 ],
 "metadata": {
  "kernelspec": {
   "display_name": "Python 3.10.2 64-bit",
   "language": "python",
   "name": "python3"
  },
  "language_info": {
   "codemirror_mode": {
    "name": "ipython",
    "version": 3
   },
   "file_extension": ".py",
   "mimetype": "text/x-python",
   "name": "python",
   "nbconvert_exporter": "python",
   "pygments_lexer": "ipython3",
   "version": "3.10.2"
  },
  "orig_nbformat": 4,
  "vscode": {
   "interpreter": {
    "hash": "aee8b7b246df8f9039afb4144a1f6fd8d2ca17a180786b69acc140d282b71a49"
   }
  }
 },
 "nbformat": 4,
 "nbformat_minor": 2
}
